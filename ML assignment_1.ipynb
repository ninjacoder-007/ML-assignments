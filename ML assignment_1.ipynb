{
 "cells": [
  {
   "cell_type": "code",
   "execution_count": null,
   "id": "425f8147",
   "metadata": {},
   "outputs": [],
   "source": [
    "1. What does one mean by the term &quot;machine learning&quot;?\n",
    "\n",
    "ANS The term machine learning is the process of interpreting the data and finding out desired result according to the requirements by only means of computer and its computational power only. "
   ]
  },
  {
   "cell_type": "code",
   "execution_count": null,
   "id": "5c36cc25",
   "metadata": {},
   "outputs": [],
   "source": [
    "2.Can you think of 4 distinct types of issues where it shines?\n",
    "\n",
    "ANS Machine learning can shines in every aspects but some them are as follows.\n",
    "    1 spam detection\n",
    "    2  Recommendation system\n",
    "    3 Image recognization\n",
    "    4 Result prediction for a certain exprement on given data."
   ]
  },
  {
   "cell_type": "code",
   "execution_count": null,
   "id": "6f83f73a",
   "metadata": {},
   "outputs": [],
   "source": [
    "3.What is a labeled training set, and how does it work?\n",
    "ANS Labeled training set is the set by which you train the algorithm to get the accuracy to your model. The training data set is the part of original or main data set. The model is first trained with training data set , the result checked with orignal data if the are correct then it is tested with testing data set and if accuracy is satisfying then the model is approved and if not the model goes for retune and remodel."
   ]
  },
  {
   "cell_type": "code",
   "execution_count": null,
   "id": "d7edb6ce",
   "metadata": {},
   "outputs": [],
   "source": [
    "4.What are the two most important tasks that are supervised?\n",
    "ANS: Most important task are Classification and Regression."
   ]
  },
  {
   "cell_type": "code",
   "execution_count": null,
   "id": "dc1de3a7",
   "metadata": {},
   "outputs": [],
   "source": [
    "5.Can you think of four examples of unsupervised tasks?\n",
    "\n",
    "ANS Keyword Extraction\n",
    "Extractive Summerisation\n",
    "Topic Modelling\n",
    "Trend Detection"
   ]
  },
  {
   "cell_type": "code",
   "execution_count": null,
   "id": "73ad694b",
   "metadata": {},
   "outputs": [],
   "source": [
    "6.State the machine learning model that would be best to make a robot walk through various\n",
    "unfamiliar terrains?\n",
    "ANs Reinforcement Learning."
   ]
  },
  {
   "cell_type": "code",
   "execution_count": null,
   "id": "f0e21550",
   "metadata": {},
   "outputs": [],
   "source": [
    "7.Which algorithm will you use to divide your customers into different groups?\n",
    "\n",
    "ANS Clustering Algorithm."
   ]
  },
  {
   "cell_type": "code",
   "execution_count": null,
   "id": "d3a44023",
   "metadata": {},
   "outputs": [],
   "source": [
    "8.Will you consider the problem of spam detection to be a supervised or unsupervised learning\n",
    "problem?\n",
    "\n",
    "Ans It will considered in both supervised and unsupervised learning."
   ]
  },
  {
   "cell_type": "code",
   "execution_count": null,
   "id": "5a69161a",
   "metadata": {},
   "outputs": [],
   "source": [
    "9.What is the concept of an online learning system?\n",
    "\n",
    "ANS The concept of online learning system is that it is computationally impossible to train the entire data set."
   ]
  },
  {
   "cell_type": "code",
   "execution_count": null,
   "id": "aa330780",
   "metadata": {},
   "outputs": [],
   "source": [
    "10.What is out-of-core learning, and how does it differ from core learning?\n",
    "ANS The out of core learning is learning the dataset which is as huge as it cannot contain in memory of  single system but that it can easily fit into some data storage as local RAM where in core learning the data size can fit into a memory of single system."
   ]
  },
  {
   "cell_type": "code",
   "execution_count": null,
   "id": "dcf653cf",
   "metadata": {},
   "outputs": [],
   "source": [
    "11.What kind of learning algorithm makes predictions using a similarity measure?\n",
    "\n",
    "ANS  Instance-Based machine learning algorithm."
   ]
  },
  {
   "cell_type": "code",
   "execution_count": null,
   "id": "c57a7392",
   "metadata": {},
   "outputs": [],
   "source": [
    "12.What&#39;s the difference between a model parameter and a hyperparameter in a learning\n",
    "algorithm?\n",
    "ANS:\n",
    "    \n",
    "Model Parameter is the one that must be determined using the training data set.\n",
    "Hyperparameters are adjustable parameters that must be tuned in order to obtain with optimal performance."
   ]
  },
  {
   "cell_type": "code",
   "execution_count": null,
   "id": "62a01185",
   "metadata": {},
   "outputs": [],
   "source": [
    "13.What are the criteria that model-based learning algorithms look for? What is the most popular\n",
    "method they use to achieve success? What method do they use to make predictions?\n",
    "\n",
    "ANS \n",
    "The crieria that model based learning algorithms look are as follows\n",
    "  The Kind of model in use\n",
    "Analyzing the available data\n",
    "Accuracy\n",
    "Time taken to train model\n",
    "Number of parameters\n",
    "Number of features\n",
    "linearity.\n",
    "\n",
    "Method to achieve success is vanilla supervised learning.\n",
    "\n",
    "Clustering algorithms, Regression analysis, Association Rules, Markov chain are the methods."
   ]
  },
  {
   "cell_type": "code",
   "execution_count": null,
   "id": "52018e73",
   "metadata": {},
   "outputs": [],
   "source": [
    "14.Can you name four of the most important Machine Learning challenges?\n",
    "\n",
    "ANS  Data collection\n",
    "     Less amount of training data\n",
    "    Non representative training data\n",
    "    Poor quality of data"
   ]
  },
  {
   "cell_type": "code",
   "execution_count": null,
   "id": "c2849968",
   "metadata": {},
   "outputs": [],
   "source": [
    "15.What happens if the model performs well on the training data but fails to generalize the results\n",
    "to new situations? Can you think of three different options?\n",
    "\n",
    "ANS \n",
    "    If model performing well on training data but not on new situations then there is need of chainging the algorithms or remodelling the model with more clean and accurate data set.\n",
    "    In such case the model may learn a small fluctuations as a concept of model and it gives wrong or less accurate results.\n",
    "    In underfitting the model fails to produce output from training data nor with new data.\n",
    "    Sometimes it can work well with both data.\n",
    "    "
   ]
  },
  {
   "cell_type": "code",
   "execution_count": null,
   "id": "b65f12d0",
   "metadata": {},
   "outputs": [],
   "source": [
    "16.What exactly is a test set, and why would you need one?\n",
    "\n",
    "ANS \n",
    "    A test set is the part of data by which the accuracy of model is tested. It is needed to measure the accuracy of model with the data which is model is not familiar with."
   ]
  },
  {
   "cell_type": "code",
   "execution_count": null,
   "id": "084b39ca",
   "metadata": {},
   "outputs": [],
   "source": [
    "17.What is a validation set&#39;s purpose?\n",
    "\n",
    "The purpose of validation set is to tune the hyperparameters of classifier."
   ]
  },
  {
   "cell_type": "code",
   "execution_count": null,
   "id": "036833d3",
   "metadata": {},
   "outputs": [],
   "source": [
    "18.What precisely is the train-dev kit, when will you need it, how do you put it to use?\n",
    "\n",
    "ANS The train dev set is used when the model is overfitting.\n",
    "When a training set and dev set has different distributions the train-dev kit comes into the picture.\n",
    "It contains the same distribution as the training set.\n"
   ]
  },
  {
   "cell_type": "code",
   "execution_count": null,
   "id": "74909396",
   "metadata": {},
   "outputs": [],
   "source": [
    "19.What could go wrong if you use the test set to tune hyperparameters?\n",
    "Ans \n",
    "    If we use test set to tune hyperparameters then the model has chance to see the data and it will develope a bias towards the test data and we will loose the accuracy."
   ]
  }
 ],
 "metadata": {
  "kernelspec": {
   "display_name": "Python 3",
   "language": "python",
   "name": "python3"
  },
  "language_info": {
   "codemirror_mode": {
    "name": "ipython",
    "version": 3
   },
   "file_extension": ".py",
   "mimetype": "text/x-python",
   "name": "python",
   "nbconvert_exporter": "python",
   "pygments_lexer": "ipython3",
   "version": "3.8.8"
  }
 },
 "nbformat": 4,
 "nbformat_minor": 5
}
