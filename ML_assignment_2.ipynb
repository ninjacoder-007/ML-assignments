{
 "cells": [
  {
   "cell_type": "code",
   "execution_count": null,
   "id": "64106aac",
   "metadata": {},
   "outputs": [],
   "source": [
    "1. What is the concept of human learning? Please give two examples.\n",
    "\n",
    "ANS:\n",
    "    Human learning is anything that humans learns from its birth to its death in day to day life to make thier tasks easier. The examples of human learning are like learning to talk after birth , trying to walk on its own after the birth etc."
   ]
  },
  {
   "cell_type": "code",
   "execution_count": null,
   "id": "7b859231",
   "metadata": {},
   "outputs": [],
   "source": [
    "2. What different forms of human learning are there? Are there any machine learning equivalents?\n",
    "\n",
    "ANS:\n",
    "    The different types or forms of learning are like Classical learning ,Observational learning , Operant learning etc. Yes upto somehow extent they are equivalent to the machine learning."
   ]
  },
  {
   "cell_type": "code",
   "execution_count": null,
   "id": "c7067c0b",
   "metadata": {},
   "outputs": [],
   "source": [
    "3. What is machine learning, and how does it work? What are the key responsibilities of machine\n",
    "learning?\n",
    "\n",
    "ANS:\n",
    "    The machine learning is the process in which machine try to adopt the nature of human intelligence in order to perform complex tasks. It works on the data set where according to the nature of data and the task to perform the algorithm is used for maximum accuracy and then model is trained on that data to do task in near future by machine on its own.The responsibalities of machine learnings are various, some of them are as follows.\n",
    "    Develop ML applications according to the requirements. \n",
    "    Run machine learning test and expreiments.\n",
    "    Train and retrain system when necessary. etc."
   ]
  },
  {
   "cell_type": "code",
   "execution_count": null,
   "id": "700cbaa2",
   "metadata": {},
   "outputs": [],
   "source": [
    "4. Define the terms &quot;penalty&quot; and &quot;reward&quot; in the context of reinforcement learning\n",
    "ANS:\n",
    "    The terms penalty and reward explained are as follows.\n",
    "    Penalty: It is failing to make balance in any given task and its called penalty.\n",
    "        Reward.: It is stying in the balance in any given task and its called reward."
   ]
  },
  {
   "cell_type": "code",
   "execution_count": null,
   "id": "cd30d42d",
   "metadata": {},
   "outputs": [],
   "source": [
    "5. Explain the term &quot;learning as a search&quot;?\n",
    "\n",
    "ANS:Learning as search is the condition when you dont have any best train or best test dataset and you have to build a model where any algorithm is not the best one.It is like designing of a perfect learning system for a given problem is intractable\n",
    "    "
   ]
  },
  {
   "cell_type": "code",
   "execution_count": null,
   "id": "904cf07e",
   "metadata": {},
   "outputs": [],
   "source": [
    "6. What are the various goals of machine learning? What is the relationship between these and\n",
    "human learning?\n",
    "\n",
    "ANS:\n",
    "    The main goal of machine learning is to understand the data and by help of data making the computer systems so powerful that it can be analyze the data and predict the insights from the data which will useful for human for further development purpose.\n",
    "    The relationship between machine learning and human learning is the data. \n",
    "    Human learns through various data available to him/her in form of picture, text, numericals etc. and make predictions out of it, there is no predifined data for human to learn whereas in machine learning the machine learns according to the data provided by the developer but it has certain limitaions too."
   ]
  },
  {
   "cell_type": "code",
   "execution_count": null,
   "id": "059a2b4d",
   "metadata": {},
   "outputs": [],
   "source": [
    "7. Illustrate the various elements of machine learning using a real-life illustration.\n",
    "ANS:Various elements of machine learning using real life are as follows.\n",
    "    1: Data :- The data is any kind of data we see around in day to day life.\n",
    "    2: Task :- The task is the aim for which we learn(machine learning) something from data\n",
    "    3: Model:- The model is the path  or process of execution of how to achieve that task.\n",
    "    4: Loss Function: The expactancy or the future scenarios if model fails or fail to follow the path to achieve the goal.\n",
    "    5: Learning Algorithm : The method by which we learn something.\n",
    "    6: Evaluation : Evalutaing the goal after completion of all the process and finding the accracy of the model.\n",
    "    "
   ]
  },
  {
   "cell_type": "code",
   "execution_count": null,
   "id": "c634cbfe",
   "metadata": {},
   "outputs": [],
   "source": [
    "8. Provide an example of the abstraction method.\n",
    "ANS : Abstraction  method is used in the Text summerisation in ML"
   ]
  },
  {
   "cell_type": "code",
   "execution_count": null,
   "id": "5b61611a",
   "metadata": {},
   "outputs": [],
   "source": [
    "9. What is the concept of generalization? What function does it play in the machine learning\n",
    "process?\n",
    "ANS:\n",
    "    Generalization means when your model gives better results with testing data compared with training data. We can attain generalization by playing with random state at the time of sepreation of data in training and testing data."
   ]
  },
  {
   "cell_type": "code",
   "execution_count": null,
   "id": "494613ed",
   "metadata": {},
   "outputs": [],
   "source": [
    "What is classification, exactly? What are the main distinctions between classification and regression?\n",
    "ANS:\n",
    "    The classification is prediciting or identifying the categories on which observations or data belongs.\n",
    "    Classification involves predicting discrete categories or classes. Regression involves prediction of continuous , real-value quantities."
   ]
  },
  {
   "cell_type": "code",
   "execution_count": null,
   "id": "b1f5bcc6",
   "metadata": {},
   "outputs": [],
   "source": [
    "11. What is regression, and how does it work? Give an example of a real-world problem that was\n",
    "solved using regression.\n",
    "ANS:\n",
    "    Regression is the problem when we use input variable to identify continuous values. It basically deals with the numerical continuous values.\n",
    "    The example of real-world problem is prediction of students admission in university based on his/her last performance."
   ]
  },
  {
   "cell_type": "code",
   "execution_count": null,
   "id": "a7672385",
   "metadata": {},
   "outputs": [],
   "source": [
    "12. Describe the clustering mechanism in detail.\n",
    "ANS:Clustering method is the type of unsuperwised learning .It involves dividing the data set into different groups according to their charactristics. It is the collection of objects on basis of simalirity and differences."
   ]
  },
  {
   "cell_type": "code",
   "execution_count": null,
   "id": "ce4d5c6c",
   "metadata": {},
   "outputs": [],
   "source": [
    "13. Make brief observations on two of the following topics:\n",
    "\n",
    "i. Machine learning algorithms are used\n",
    "ii. Studying under supervision\n",
    "iii. Studying without supervision\n",
    "\n",
    "iv. Reinforcement learning is a form of learning based on positive reinforcement.\n",
    "\n",
    "ANS:\n",
    "    studing under the supervision is like training the machine using data which is labelled.\n",
    "    \n",
    "    Studying without supervision is like training the machine using the data which is unstructured."
   ]
  }
 ],
 "metadata": {
  "kernelspec": {
   "display_name": "Python 3",
   "language": "python",
   "name": "python3"
  },
  "language_info": {
   "codemirror_mode": {
    "name": "ipython",
    "version": 3
   },
   "file_extension": ".py",
   "mimetype": "text/x-python",
   "name": "python",
   "nbconvert_exporter": "python",
   "pygments_lexer": "ipython3",
   "version": "3.8.8"
  }
 },
 "nbformat": 4,
 "nbformat_minor": 5
}
